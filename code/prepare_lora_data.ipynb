{
 "cells": [
  {
   "cell_type": "code",
   "execution_count": 9,
   "metadata": {},
   "outputs": [
    {
     "data": {
      "text/plain": [
       "{'type': 'text2text',\n",
       " 'instances': [{'input': 'SAMPLE_INPUT_1', 'output': 'SAMPLE_OUTPUT_1'},\n",
       "  {'input': 'SAMPLE_INPUT_2', 'output': 'SAMPLE_OUTPUT_2'},\n",
       "  {'input': 'SAMPLE_INPUT_3', 'output': 'SAMPLE_OUTPUT_3'}]}"
      ]
     },
     "execution_count": 9,
     "metadata": {},
     "output_type": "execute_result"
    }
   ],
   "source": [
    "{\n",
    "  \"type\": \"text2text\",\n",
    "  \"instances\": [\n",
    "    {\n",
    "        \"input\": \"SAMPLE_INPUT_1\",\n",
    "        \"output\": \"SAMPLE_OUTPUT_1\",\n",
    "    },\n",
    "    {\n",
    "        \"input\": \"SAMPLE_INPUT_2\",\n",
    "        \"output\": \"SAMPLE_OUTPUT_2\",\n",
    "    },\n",
    "    {\n",
    "        \"input\": \"SAMPLE_INPUT_3\",\n",
    "        \"output\": \"SAMPLE_OUTPUT_3\",\n",
    "    },\n",
    "  ]\n",
    "}"
   ]
  },
  {
   "cell_type": "code",
   "execution_count": 10,
   "metadata": {},
   "outputs": [],
   "source": [
    "def get_verdict_prompt(claim, flaw, evidence):\n",
    "    return f\"\"\"Evaluate the validity of a given claim by examining selected evidence and potential flaws description. Provide a comprehensive analysis.\n",
    "Claim: {str(claim)[:200]}\n",
    "Potential flaws: {str(flaw)[:800]}\n",
    "Evidence (excerpt): {str(evidence)[:1000]}\"\"\""
   ]
  },
  {
   "cell_type": "code",
   "execution_count": null,
   "metadata": {},
   "outputs": [],
   "source": [
    "import json\n",
    "from pathlib import Path\n",
    "\n",
    "output = {\"type\": \"text2text\", \"instances\": []}\n",
    "\n",
    "path = Path(\"../dataset/train/claim\")\n",
    "sub = path.glob('*')\n",
    "sub = list(sub)\n",
    "\n",
    "for s in sub:\n",
    "    id = str(s)\n",
    "    if 'wat' not in id:\n",
    "        continue\n",
    "    id = id.split('/')[-1]\n",
    "    try:\n",
    "        claim = json.load(open(f'../dataset/train/claim/{id}', 'r'))\n",
    "        evidence = json.load(open(f'../dataset/train/evidence/{id}', 'r'))\n",
    "        flaw = json.load(open(f'../dataset/train/flaw/{id}', 'r'))\n",
    "    \n",
    "        review = json.load(open(f'../dataset/train/review/{id}', 'r'))\n",
    "        prompt = get_verdict_prompt(claim, flaw, evidence)\n",
    "    except Exception as e:\n",
    "        continue\n",
    "    output['instances'].append({\"input\": prompt, \"output\": str(review)[:1500]})\n",
    "\n",
    "json.dump(output, open(\"../lora_dataset/flaw_7/train.json\", \"w\"))"
   ]
  },
  {
   "cell_type": "code",
   "execution_count": null,
   "metadata": {},
   "outputs": [],
   "source": [
    "import json\n",
    "from pathlib import Path\n",
    "\n",
    "output = {\"type\": \"text2text\", \"instances\": []}\n",
    "\n",
    "path = Path(\"../dataset/train/claim\")\n",
    "sub = path.glob('*')\n",
    "sub = list(sub)\n",
    "error = 0\n",
    "for s in sub:\n",
    "    id = str(s)\n",
    "    if 'wat' not in id:\n",
    "        continue\n",
    "    id = id.split('/')[-1]\n",
    "    try:\n",
    "        claim = json.load(open(f'../dataset/train/claim/{id}', 'r'))\n",
    "        evidence = json.load(open(f'../dataset/train/evidence/{id}', 'r'))\n",
    "        flaw = json.load(open(f'../dataset/train/flaw/{id}', 'r'))\n",
    "        \n",
    "        if \"Problematic assumption\" in flaw:\n",
    "            del flaw['Problematic assumption']\n",
    "        if \"Exist alternative explanation\" in flaw:\n",
    "            del flaw[\"Exist alternative explanation\"]\n",
    "        \n",
    "        review = json.load(open(f'../dataset/train/review/{id}', 'r'))\n",
    "        prompt = get_verdict_prompt(claim, flaw, evidence)\n",
    "    except Exception as e:\n",
    "        continue\n",
    "    output['instances'].append({\"input\": prompt, \"output\": str(review)[:1500]})\n",
    "\n",
    "json.dump(output, open(\"../lora_dataset/flaw_5/train.json\", \"w\"))"
   ]
  },
  {
   "cell_type": "code",
   "execution_count": null,
   "metadata": {},
   "outputs": [],
   "source": [
    "import json\n",
    "from pathlib import Path\n",
    "\n",
    "output = {\"type\": \"text2text\", \"instances\": []}\n",
    "\n",
    "path = Path(\"../dataset/train/claim\")\n",
    "sub = path.glob('*')\n",
    "sub = list(sub)\n",
    "\n",
    "for s in sub:\n",
    "    id = str(s)\n",
    "    if 'wat' not in id:\n",
    "        continue\n",
    "    id = id.split('/')[-1]\n",
    "    try:\n",
    "        claim = json.load(open(f'../dataset/train/claim/{id}', 'r'))\n",
    "        evidence = json.load(open(f'../dataset/train/evidence/{id}', 'r'))\n",
    "        flaw = json.load(open(f'../dataset/train/flaw/{id}', 'r'))\n",
    "        \n",
    "        if \"Problematic assumption\" in flaw:\n",
    "            del flaw['Problematic assumption']\n",
    "        if \"Exist alternative explanation\" in flaw:\n",
    "            del flaw[\"Exist alternative explanation\"]\n",
    "        if \"Lack enough support\" in flaw:\n",
    "            del flaw[\"Lack enough support\"]\n",
    "        if \"Falters at times\" in flaw:\n",
    "            del flaw[\"Falters at times\"]\n",
    "        \n",
    "        review = json.load(open(f'../dataset/train/review/{id}', 'r'))\n",
    "        prompt = get_verdict_prompt(claim, flaw, evidence)\n",
    "    except Exception as e:\n",
    "        continue\n",
    "    output['instances'].append({\"input\": prompt, \"output\": str(review)[:1500]})\n",
    "\n",
    "json.dump(output, open(\"../lora_dataset/flaw_3/train.json\", \"w\"))"
   ]
  }
 ],
 "metadata": {
  "interpreter": {
   "hash": "d4d1e4263499bec80672ea0156c357c1ee493ec2b1c70f0acce89fc37c4a6abe"
  },
  "kernelspec": {
   "display_name": "Python 3.9.16 64-bit ('base': conda)",
   "language": "python",
   "name": "python3"
  },
  "language_info": {
   "codemirror_mode": {
    "name": "ipython",
    "version": 3
   },
   "file_extension": ".py",
   "mimetype": "text/x-python",
   "name": "python",
   "nbconvert_exporter": "python",
   "pygments_lexer": "ipython3",
   "version": "3.9.16"
  },
  "orig_nbformat": 4
 },
 "nbformat": 4,
 "nbformat_minor": 2
}
